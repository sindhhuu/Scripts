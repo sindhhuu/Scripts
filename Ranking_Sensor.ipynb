{
 "cells": [
  {
   "cell_type": "code",
   "execution_count": 1,
   "metadata": {},
   "outputs": [],
   "source": [
    "#import necessary Libraries\n",
    "import numpy as np\n",
    "import pandas as pd\n",
    "import matplotlib.pyplot as plt\n",
    "#read File into Pandas DataFrame\n",
    "df_Sensor = pd.read_csv(r'C:\\Users\\Sindhuja\\Desktop\\ML on ML\\task\\task\\task_data.csv')"
   ]
  },
  {
   "cell_type": "code",
   "execution_count": 2,
   "metadata": {},
   "outputs": [
    {
     "data": {
      "text/html": [
       "<div>\n",
       "<style scoped>\n",
       "    .dataframe tbody tr th:only-of-type {\n",
       "        vertical-align: middle;\n",
       "    }\n",
       "\n",
       "    .dataframe tbody tr th {\n",
       "        vertical-align: top;\n",
       "    }\n",
       "\n",
       "    .dataframe thead th {\n",
       "        text-align: right;\n",
       "    }\n",
       "</style>\n",
       "<table border=\"1\" class=\"dataframe\">\n",
       "  <thead>\n",
       "    <tr style=\"text-align: right;\">\n",
       "      <th></th>\n",
       "      <th>sample index</th>\n",
       "      <th>class_label</th>\n",
       "      <th>sensor0</th>\n",
       "      <th>sensor1</th>\n",
       "      <th>sensor2</th>\n",
       "      <th>sensor3</th>\n",
       "      <th>sensor4</th>\n",
       "      <th>sensor5</th>\n",
       "      <th>sensor6</th>\n",
       "      <th>sensor7</th>\n",
       "      <th>sensor8</th>\n",
       "      <th>sensor9</th>\n",
       "    </tr>\n",
       "  </thead>\n",
       "  <tbody>\n",
       "    <tr>\n",
       "      <th>0</th>\n",
       "      <td>sample0</td>\n",
       "      <td>1.0</td>\n",
       "      <td>0.834251</td>\n",
       "      <td>0.726081</td>\n",
       "      <td>0.535904</td>\n",
       "      <td>0.214896</td>\n",
       "      <td>0.873788</td>\n",
       "      <td>0.767605</td>\n",
       "      <td>0.111308</td>\n",
       "      <td>0.557526</td>\n",
       "      <td>0.599650</td>\n",
       "      <td>0.665569</td>\n",
       "    </tr>\n",
       "    <tr>\n",
       "      <th>1</th>\n",
       "      <td>sample1</td>\n",
       "      <td>1.0</td>\n",
       "      <td>0.804059</td>\n",
       "      <td>0.253135</td>\n",
       "      <td>0.869867</td>\n",
       "      <td>0.334285</td>\n",
       "      <td>0.604075</td>\n",
       "      <td>0.494045</td>\n",
       "      <td>0.833575</td>\n",
       "      <td>0.194190</td>\n",
       "      <td>0.014966</td>\n",
       "      <td>0.802918</td>\n",
       "    </tr>\n",
       "    <tr>\n",
       "      <th>2</th>\n",
       "      <td>sample2</td>\n",
       "      <td>1.0</td>\n",
       "      <td>0.694404</td>\n",
       "      <td>0.595777</td>\n",
       "      <td>0.581294</td>\n",
       "      <td>0.799003</td>\n",
       "      <td>0.762857</td>\n",
       "      <td>0.651393</td>\n",
       "      <td>0.075905</td>\n",
       "      <td>0.007186</td>\n",
       "      <td>0.659633</td>\n",
       "      <td>0.831009</td>\n",
       "    </tr>\n",
       "    <tr>\n",
       "      <th>3</th>\n",
       "      <td>sample3</td>\n",
       "      <td>1.0</td>\n",
       "      <td>0.783690</td>\n",
       "      <td>0.038780</td>\n",
       "      <td>0.285043</td>\n",
       "      <td>0.627305</td>\n",
       "      <td>0.800620</td>\n",
       "      <td>0.486340</td>\n",
       "      <td>0.827723</td>\n",
       "      <td>0.339807</td>\n",
       "      <td>0.731343</td>\n",
       "      <td>0.892359</td>\n",
       "    </tr>\n",
       "    <tr>\n",
       "      <th>4</th>\n",
       "      <td>sample4</td>\n",
       "      <td>1.0</td>\n",
       "      <td>0.788835</td>\n",
       "      <td>0.174433</td>\n",
       "      <td>0.348770</td>\n",
       "      <td>0.938244</td>\n",
       "      <td>0.692065</td>\n",
       "      <td>0.377620</td>\n",
       "      <td>0.183760</td>\n",
       "      <td>0.616805</td>\n",
       "      <td>0.492899</td>\n",
       "      <td>0.930969</td>\n",
       "    </tr>\n",
       "  </tbody>\n",
       "</table>\n",
       "</div>"
      ],
      "text/plain": [
       "  sample index  class_label   sensor0   sensor1   sensor2   sensor3   sensor4  \\\n",
       "0      sample0          1.0  0.834251  0.726081  0.535904  0.214896  0.873788   \n",
       "1      sample1          1.0  0.804059  0.253135  0.869867  0.334285  0.604075   \n",
       "2      sample2          1.0  0.694404  0.595777  0.581294  0.799003  0.762857   \n",
       "3      sample3          1.0  0.783690  0.038780  0.285043  0.627305  0.800620   \n",
       "4      sample4          1.0  0.788835  0.174433  0.348770  0.938244  0.692065   \n",
       "\n",
       "    sensor5   sensor6   sensor7   sensor8   sensor9  \n",
       "0  0.767605  0.111308  0.557526  0.599650  0.665569  \n",
       "1  0.494045  0.833575  0.194190  0.014966  0.802918  \n",
       "2  0.651393  0.075905  0.007186  0.659633  0.831009  \n",
       "3  0.486340  0.827723  0.339807  0.731343  0.892359  \n",
       "4  0.377620  0.183760  0.616805  0.492899  0.930969  "
      ]
     },
     "execution_count": 2,
     "metadata": {},
     "output_type": "execute_result"
    }
   ],
   "source": [
    "#Check the Data Frame value\n",
    "df_Sensor.head()"
   ]
  },
  {
   "cell_type": "code",
   "execution_count": 3,
   "metadata": {},
   "outputs": [
    {
     "data": {
      "text/html": [
       "<div>\n",
       "<style scoped>\n",
       "    .dataframe tbody tr th:only-of-type {\n",
       "        vertical-align: middle;\n",
       "    }\n",
       "\n",
       "    .dataframe tbody tr th {\n",
       "        vertical-align: top;\n",
       "    }\n",
       "\n",
       "    .dataframe thead th {\n",
       "        text-align: right;\n",
       "    }\n",
       "</style>\n",
       "<table border=\"1\" class=\"dataframe\">\n",
       "  <thead>\n",
       "    <tr style=\"text-align: right;\">\n",
       "      <th></th>\n",
       "      <th>sample index</th>\n",
       "      <th>class_label</th>\n",
       "      <th>sensor0</th>\n",
       "      <th>sensor1</th>\n",
       "      <th>sensor2</th>\n",
       "      <th>sensor3</th>\n",
       "      <th>sensor4</th>\n",
       "      <th>sensor5</th>\n",
       "      <th>sensor6</th>\n",
       "      <th>sensor7</th>\n",
       "      <th>sensor8</th>\n",
       "      <th>sensor9</th>\n",
       "    </tr>\n",
       "  </thead>\n",
       "  <tbody>\n",
       "    <tr>\n",
       "      <th>395</th>\n",
       "      <td>sample395</td>\n",
       "      <td>-1.0</td>\n",
       "      <td>0.433150</td>\n",
       "      <td>0.816109</td>\n",
       "      <td>0.452945</td>\n",
       "      <td>0.065469</td>\n",
       "      <td>0.237093</td>\n",
       "      <td>0.719321</td>\n",
       "      <td>0.577969</td>\n",
       "      <td>0.085598</td>\n",
       "      <td>0.357115</td>\n",
       "      <td>0.070060</td>\n",
       "    </tr>\n",
       "    <tr>\n",
       "      <th>396</th>\n",
       "      <td>sample396</td>\n",
       "      <td>-1.0</td>\n",
       "      <td>0.339346</td>\n",
       "      <td>0.914610</td>\n",
       "      <td>0.097827</td>\n",
       "      <td>0.077522</td>\n",
       "      <td>0.484140</td>\n",
       "      <td>0.690568</td>\n",
       "      <td>0.420054</td>\n",
       "      <td>0.482845</td>\n",
       "      <td>0.395148</td>\n",
       "      <td>0.438641</td>\n",
       "    </tr>\n",
       "    <tr>\n",
       "      <th>397</th>\n",
       "      <td>sample397</td>\n",
       "      <td>-1.0</td>\n",
       "      <td>0.320118</td>\n",
       "      <td>0.444951</td>\n",
       "      <td>0.401896</td>\n",
       "      <td>0.970993</td>\n",
       "      <td>0.960264</td>\n",
       "      <td>0.138345</td>\n",
       "      <td>0.354927</td>\n",
       "      <td>0.230749</td>\n",
       "      <td>0.204612</td>\n",
       "      <td>0.558889</td>\n",
       "    </tr>\n",
       "    <tr>\n",
       "      <th>398</th>\n",
       "      <td>sample398</td>\n",
       "      <td>-1.0</td>\n",
       "      <td>0.059132</td>\n",
       "      <td>0.337426</td>\n",
       "      <td>0.772847</td>\n",
       "      <td>0.099038</td>\n",
       "      <td>0.966042</td>\n",
       "      <td>0.975086</td>\n",
       "      <td>0.532891</td>\n",
       "      <td>0.035839</td>\n",
       "      <td>0.258723</td>\n",
       "      <td>0.709958</td>\n",
       "    </tr>\n",
       "    <tr>\n",
       "      <th>399</th>\n",
       "      <td>sample399</td>\n",
       "      <td>-1.0</td>\n",
       "      <td>0.379778</td>\n",
       "      <td>0.460256</td>\n",
       "      <td>0.229257</td>\n",
       "      <td>0.768975</td>\n",
       "      <td>0.321882</td>\n",
       "      <td>0.118572</td>\n",
       "      <td>0.448964</td>\n",
       "      <td>0.546324</td>\n",
       "      <td>0.363127</td>\n",
       "      <td>0.176632</td>\n",
       "    </tr>\n",
       "  </tbody>\n",
       "</table>\n",
       "</div>"
      ],
      "text/plain": [
       "    sample index  class_label   sensor0   sensor1   sensor2   sensor3  \\\n",
       "395    sample395         -1.0  0.433150  0.816109  0.452945  0.065469   \n",
       "396    sample396         -1.0  0.339346  0.914610  0.097827  0.077522   \n",
       "397    sample397         -1.0  0.320118  0.444951  0.401896  0.970993   \n",
       "398    sample398         -1.0  0.059132  0.337426  0.772847  0.099038   \n",
       "399    sample399         -1.0  0.379778  0.460256  0.229257  0.768975   \n",
       "\n",
       "      sensor4   sensor5   sensor6   sensor7   sensor8   sensor9  \n",
       "395  0.237093  0.719321  0.577969  0.085598  0.357115  0.070060  \n",
       "396  0.484140  0.690568  0.420054  0.482845  0.395148  0.438641  \n",
       "397  0.960264  0.138345  0.354927  0.230749  0.204612  0.558889  \n",
       "398  0.966042  0.975086  0.532891  0.035839  0.258723  0.709958  \n",
       "399  0.321882  0.118572  0.448964  0.546324  0.363127  0.176632  "
      ]
     },
     "execution_count": 3,
     "metadata": {},
     "output_type": "execute_result"
    }
   ],
   "source": [
    "#Check the negative class values in Data Frame value\n",
    "df_Sensor.tail()"
   ]
  },
  {
   "cell_type": "code",
   "execution_count": 4,
   "metadata": {},
   "outputs": [],
   "source": [
    "#just to simplify column\n",
    "df_Sensor.rename({\"sample index\": \"sample_index\"},axis=1, inplace=True)"
   ]
  },
  {
   "cell_type": "code",
   "execution_count": 5,
   "metadata": {},
   "outputs": [
    {
     "data": {
      "text/plain": [
       "-1.0    200\n",
       " 1.0    200\n",
       "Name: class_label, dtype: int64"
      ]
     },
     "execution_count": 5,
     "metadata": {},
     "output_type": "execute_result"
    }
   ],
   "source": [
    "#Checking for available classtypes\n",
    "df_Sensor['class_label'].value_counts()\n",
    "df_unique_cLabel = df_Sensor['class_label'].value_counts()\n",
    "df_unique_cLabel.reset_index()\n",
    "df_unique_cLabel.columns = ['cLabel','count']\n",
    "df_unique_cLabel"
   ]
  },
  {
   "cell_type": "code",
   "execution_count": 6,
   "metadata": {},
   "outputs": [],
   "source": [
    "#Temp Works below can be ignored.\n",
    "#df_sen_P = df_Sensor.loc[df_Sensor['class_label']==1]\n",
    "#df_sen_N = df_Sensor.loc[df_Sensor['class_label']==-1]\n",
    "\n",
    "#Pass a valid Class Label\n",
    "def class_df_seperation (df_Full,c_label):\n",
    "    df_Seperated = df_Full.loc[df_Full['class_label']==c_label]\n",
    "    return df_Seperated\n",
    "#calling function to seperate class '1' and '-1'\n",
    "df_sen_P = class_df_seperation(df_Sensor,1)\n",
    "df_sen_N = class_df_seperation(df_Sensor,-1)\n"
   ]
  },
  {
   "cell_type": "code",
   "execution_count": 7,
   "metadata": {},
   "outputs": [
    {
     "data": {
      "text/plain": [
       "sample_index    200\n",
       "class_label     200\n",
       "sensor0         200\n",
       "sensor1         200\n",
       "sensor2         200\n",
       "sensor3         200\n",
       "sensor4         200\n",
       "sensor5         200\n",
       "sensor6         200\n",
       "sensor7         200\n",
       "sensor8         200\n",
       "sensor9         200\n",
       "dtype: int64"
      ]
     },
     "execution_count": 7,
     "metadata": {},
     "output_type": "execute_result"
    }
   ],
   "source": [
    "#Checking '1' class dataframe\n",
    "df_sen_P.count()"
   ]
  },
  {
   "cell_type": "code",
   "execution_count": 8,
   "metadata": {},
   "outputs": [
    {
     "data": {
      "text/html": [
       "<div>\n",
       "<style scoped>\n",
       "    .dataframe tbody tr th:only-of-type {\n",
       "        vertical-align: middle;\n",
       "    }\n",
       "\n",
       "    .dataframe tbody tr th {\n",
       "        vertical-align: top;\n",
       "    }\n",
       "\n",
       "    .dataframe thead th {\n",
       "        text-align: right;\n",
       "    }\n",
       "</style>\n",
       "<table border=\"1\" class=\"dataframe\">\n",
       "  <thead>\n",
       "    <tr style=\"text-align: right;\">\n",
       "      <th></th>\n",
       "      <th>sample_index</th>\n",
       "      <th>class_label</th>\n",
       "      <th>sensor0</th>\n",
       "      <th>sensor1</th>\n",
       "      <th>sensor2</th>\n",
       "      <th>sensor3</th>\n",
       "      <th>sensor4</th>\n",
       "      <th>sensor5</th>\n",
       "      <th>sensor6</th>\n",
       "      <th>sensor7</th>\n",
       "      <th>sensor8</th>\n",
       "      <th>sensor9</th>\n",
       "    </tr>\n",
       "  </thead>\n",
       "  <tbody>\n",
       "    <tr>\n",
       "      <th>200</th>\n",
       "      <td>sample200</td>\n",
       "      <td>-1.0</td>\n",
       "      <td>0.461415</td>\n",
       "      <td>0.823057</td>\n",
       "      <td>0.458469</td>\n",
       "      <td>0.879920</td>\n",
       "      <td>0.100219</td>\n",
       "      <td>0.643478</td>\n",
       "      <td>0.387758</td>\n",
       "      <td>0.512013</td>\n",
       "      <td>0.384655</td>\n",
       "      <td>0.578389</td>\n",
       "    </tr>\n",
       "    <tr>\n",
       "      <th>201</th>\n",
       "      <td>sample201</td>\n",
       "      <td>-1.0</td>\n",
       "      <td>0.158615</td>\n",
       "      <td>0.805215</td>\n",
       "      <td>0.825923</td>\n",
       "      <td>0.252826</td>\n",
       "      <td>0.451814</td>\n",
       "      <td>0.637244</td>\n",
       "      <td>0.436632</td>\n",
       "      <td>0.385173</td>\n",
       "      <td>0.470656</td>\n",
       "      <td>0.401134</td>\n",
       "    </tr>\n",
       "    <tr>\n",
       "      <th>202</th>\n",
       "      <td>sample202</td>\n",
       "      <td>-1.0</td>\n",
       "      <td>0.015053</td>\n",
       "      <td>0.161374</td>\n",
       "      <td>0.820800</td>\n",
       "      <td>0.463659</td>\n",
       "      <td>0.135061</td>\n",
       "      <td>0.409219</td>\n",
       "      <td>0.660044</td>\n",
       "      <td>0.161164</td>\n",
       "      <td>0.343768</td>\n",
       "      <td>0.558889</td>\n",
       "    </tr>\n",
       "    <tr>\n",
       "      <th>203</th>\n",
       "      <td>sample203</td>\n",
       "      <td>-1.0</td>\n",
       "      <td>0.254302</td>\n",
       "      <td>0.405447</td>\n",
       "      <td>0.894234</td>\n",
       "      <td>0.227233</td>\n",
       "      <td>0.130453</td>\n",
       "      <td>0.504841</td>\n",
       "      <td>0.399848</td>\n",
       "      <td>0.020323</td>\n",
       "      <td>0.111351</td>\n",
       "      <td>0.305784</td>\n",
       "    </tr>\n",
       "    <tr>\n",
       "      <th>204</th>\n",
       "      <td>sample204</td>\n",
       "      <td>-1.0</td>\n",
       "      <td>0.151192</td>\n",
       "      <td>0.413258</td>\n",
       "      <td>0.163459</td>\n",
       "      <td>0.356527</td>\n",
       "      <td>0.829956</td>\n",
       "      <td>0.936426</td>\n",
       "      <td>0.587276</td>\n",
       "      <td>0.620888</td>\n",
       "      <td>0.401958</td>\n",
       "      <td>0.733656</td>\n",
       "    </tr>\n",
       "  </tbody>\n",
       "</table>\n",
       "</div>"
      ],
      "text/plain": [
       "    sample_index  class_label   sensor0   sensor1   sensor2   sensor3  \\\n",
       "200    sample200         -1.0  0.461415  0.823057  0.458469  0.879920   \n",
       "201    sample201         -1.0  0.158615  0.805215  0.825923  0.252826   \n",
       "202    sample202         -1.0  0.015053  0.161374  0.820800  0.463659   \n",
       "203    sample203         -1.0  0.254302  0.405447  0.894234  0.227233   \n",
       "204    sample204         -1.0  0.151192  0.413258  0.163459  0.356527   \n",
       "\n",
       "      sensor4   sensor5   sensor6   sensor7   sensor8   sensor9  \n",
       "200  0.100219  0.643478  0.387758  0.512013  0.384655  0.578389  \n",
       "201  0.451814  0.637244  0.436632  0.385173  0.470656  0.401134  \n",
       "202  0.135061  0.409219  0.660044  0.161164  0.343768  0.558889  \n",
       "203  0.130453  0.504841  0.399848  0.020323  0.111351  0.305784  \n",
       "204  0.829956  0.936426  0.587276  0.620888  0.401958  0.733656  "
      ]
     },
     "execution_count": 8,
     "metadata": {},
     "output_type": "execute_result"
    }
   ],
   "source": [
    "#Checking '-1' class dataframe\n",
    "\n",
    "df_sen_N.head()"
   ]
  },
  {
   "cell_type": "code",
   "execution_count": 9,
   "metadata": {},
   "outputs": [
    {
     "data": {
      "image/png": "[encoded data removed]",
      "text/plain": [
       "<Figure size 432x288 with 1 Axes>"
      ]
     },
     "metadata": {
      "needs_background": "light"
     },
     "output_type": "display_data"
    }
   ],
   "source": [
    "#Trying to understand how data is spread within single sensor readings\n",
    "plt.plot(df_sen_N['sensor3'])\n",
    "plt.ylabel('sensor')\n",
    "plt.show()"
   ]
  },
  {
   "cell_type": "code",
   "execution_count": 10,
   "metadata": {},
   "outputs": [],
   "source": [
    "#df_sen_N = df_sen_N.assign(Rank = df_sen_N[\"sensor0\"].rank(ascending=False))\n",
    "# sorting w.r.t name column \n",
    "#df_sen_N.sort_values(\"Rank\", inplace = True) \n",
    "#df_sen_N[['sample_index','sensor0','Rank']]\n",
    "\n",
    "def Ranking_Sensor_N(sen_type,sen_N):\n",
    "    sen_N = sen_N.assign(Rank = sen_N[sen_type].rank(ascending=False))\n",
    "    # sorting w.r.t Sensor Readings column\n",
    "    sen_N.sort_values(\"Rank\", inplace = True) \n",
    "    DF_Final_N=sen_N[['sample_index',sen_type,'Rank']]\n",
    "    return DF_Final_N\n",
    "\n",
    "def Ranking_Sensor_P(sen_type,sen_P):\n",
    "    sen_P = sen_P.assign(Rank = sen_P[sen_type].rank(ascending=False))\n",
    "    # sorting w.r.t Sensor Readings column\n",
    "    sen_P.sort_values(\"Rank\", inplace = True) \n",
    "    DF_Final_P=sen_P[['sample_index',sen_type,'Rank']]\n",
    "    return DF_Final_P\n"
   ]
  },
  {
   "cell_type": "code",
   "execution_count": 11,
   "metadata": {},
   "outputs": [
    {
     "data": {
      "image/png": "[encoded data removed]",
      "text/plain": [
       "<Figure size 432x288 with 1 Axes>"
      ]
     },
     "metadata": {
      "needs_background": "light"
     },
     "output_type": "display_data"
    }
   ],
   "source": [
    "#Trying to understand sensor readings spread\n",
    "DFN_Final = Ranking_Sensor_N(\"sensor0\",df_sen_N)\n",
    "DFP_Final = Ranking_Sensor_P(\"sensor0\",df_sen_P)\n",
    "\n",
    "plt.plot(DFP_Final['sensor0'],DFP_Final['Rank'])\n",
    "plt.ylabel('Rank of Sensor0')\n",
    "plt.xlabel('Sensor0 on 200 Samples of Class 1')\n",
    "#plt.show()\n",
    "x1=DFP_Final['sensor0']\n",
    "x2=DFN_Final['sensor0']\n",
    "y1=DFP_Final['Rank']\n",
    "y2=DFN_Final['Rank']\n",
    "curve1 = plt.plot(x1, y1, label=\"sin\", color='r')\n",
    "curve2 = plt.plot(x2, y2, label=\"sinh\", color='b')\n",
    "plt.show()"
   ]
  },
  {
   "cell_type": "code",
   "execution_count": 12,
   "metadata": {},
   "outputs": [
    {
     "data": {
      "image/png": "[encoded data removed]",
      "text/plain": [
       "<Figure size 432x288 with 1 Axes>"
      ]
     },
     "metadata": {
      "needs_background": "light"
     },
     "output_type": "display_data"
    }
   ],
   "source": [
    "#Trying to understand sensor readings spread\n",
    "DFN_Final = Ranking_Sensor_N(\"sensor1\",df_sen_N)\n",
    "DFP_Final = Ranking_Sensor_P(\"sensor1\",df_sen_P)\n",
    "\n",
    "plt.plot(DFP_Final['sensor1'],DFP_Final['Rank'])\n",
    "plt.ylabel('Rank of Sensor1')\n",
    "plt.xlabel('Sensor1 on 200 Samples of Class 1')\n",
    "plt.show()"
   ]
  },
  {
   "cell_type": "code",
   "execution_count": 13,
   "metadata": {},
   "outputs": [
    {
     "data": {
      "image/png": "[encoded data removed]",
      "text/plain": [
       "<Figure size 432x288 with 1 Axes>"
      ]
     },
     "metadata": {
      "needs_background": "light"
     },
     "output_type": "display_data"
    }
   ],
   "source": [
    "df_sen_roundN=df_sen_N.round({\"sensor0\":2,\"sensor1\":2,\"sensor2\":2,\"sensor3\":2,\"sensor4\":2,\"sensor5\":2,\"sensor6\":2,\"sensor7\":2,\"sensor8\":2,\"sensor9\":2})\n",
    "df_sen_roundP=df_sen_P.round({\"sensor0\":2,\"sensor1\":2,\"sensor2\":2,\"sensor3\":2,\"sensor4\":2,\"sensor5\":2,\"sensor6\":2,\"sensor7\":2,\"sensor8\":2,\"sensor9\":2})\n",
    "df_roundedcountsN = df_sen_roundN[\"sensor0\"].value_counts()\n",
    "df_roundedcountsN = df_roundedcountsN.reset_index()\n",
    "df_roundedcountsN.columns= [\"sensor1\",\"count\"]\n",
    "df_roundedcountsN\n",
    "#x=df_roundedcountsN[\"sensor0\"]\n",
    "x=DFP_Final['sensor1']\n",
    "plt.hist(x, bins=30)\n",
    "plt.show\n",
    "#ploting to get the individual sensor values by rounding off the float input to 2 digits.\n",
    "df_roundedcountsN.sort_values(\"count\", inplace = True)\n",
    "g = df_roundedcountsN.groupby(df_roundedcountsN[\"count\"])\n",
    "\n",
    "#df_all_sensor0 = (df_sen_P.iloc[:,2]>0.50).value_counts()\n",
    "#df_all_sensor1 = (df_sen_P.iloc[:,3]>0.50).value_counts().append([df_all_sensor0])\n",
    "#df_sen_P.iloc[:,2]"
   ]
  },
  {
   "cell_type": "code",
   "execution_count": 19,
   "metadata": {},
   "outputs": [
    {
     "name": "stdout",
     "output_type": "stream",
     "text": [
      "   Rank\n",
      "8   1.0\n",
      "0   2.0\n",
      "4   3.0\n",
      "3   4.0\n",
      "9   5.0\n",
      "1   6.0\n",
      "2   7.0\n",
      "5   8.5\n",
      "6   8.5\n",
      "7  10.0\n"
     ]
    }
   ],
   "source": [
    "#From the mean value of the readings ranking sensors as per the quality of reading for most samples.\n",
    "def sensor_mean_ranking(df_sen):\n",
    "    ix = 0\n",
    "    ix_sensors = [2,3,4,5,6,7,8,9,10,11]\n",
    "    df_all_sensors = pd.DataFrame(index=[], columns=[])\n",
    "    while ix < len(ix_sensors):\n",
    "        col_name = ix_sensors[ix]\n",
    "        df_in_sensor = (df_sen.iloc[:,col_name]>0.50).value_counts().values\n",
    "        df_all_sensors = df_all_sensors.append([df_in_sensor])\n",
    "        ix += 1\n",
    "\n",
    "    df_all_sensors.set_index(0,inplace=True)\n",
    "    df_all_sensors.reset_index(inplace=True)\n",
    "    df_all_sensors.sort_values(0, inplace = True) \n",
    "    df_ranks = df_all_sensors.rank(ascending=False)\n",
    "    df_ranks.drop(columns=1,inplace=True)\n",
    "    df_ranks.sort_values(0, inplace = True) \n",
    "    df_ranks.rename (columns={0:\"Rank\"},inplace=True)\n",
    "    print(df_ranks)\n",
    "\n",
    "#RANKED OUTPUT OF THE SENSORS FROM 1 to 10 Index shows the sensor title and column Rank shows the respective Rank\n",
    "sensor_mean_ranking(df_sen_P)\n"
   ]
  },
  {
   "cell_type": "code",
   "execution_count": 20,
   "metadata": {},
   "outputs": [
    {
     "name": "stdout",
     "output_type": "stream",
     "text": [
      "   Rank\n",
      "8   1.0\n",
      "4   2.0\n",
      "0   3.0\n",
      "3   4.0\n",
      "7   5.0\n",
      "2   6.5\n",
      "9   6.5\n",
      "1   8.5\n",
      "6   8.5\n",
      "5  10.0\n"
     ]
    }
   ],
   "source": [
    "#RANKED OUTPUT OF THE SENSORS FROM 1 to 10 Index shows the sensor title and column Rank shows the respective Rank\n",
    "sensor_mean_ranking(df_sen_N)"
   ]
  }
 ],
 "metadata": {
  "kernelspec": {
   "display_name": "Python 3",
   "language": "python",
   "name": "python3"
  },
  "language_info": {
   "codemirror_mode": {
    "name": "ipython",
    "version": 3
   },
   "file_extension": ".py",
   "mimetype": "text/x-python",
   "name": "python",
   "nbconvert_exporter": "python",
   "pygments_lexer": "ipython3",
   "version": "3.7.0"
  }
 },
 "nbformat": 4,
 "nbformat_minor": 2
}
